{
 "cells": [
  {
   "cell_type": "markdown",
   "id": "8d18f160",
   "metadata": {},
   "source": [
    "## Assignment Operators (7)"
   ]
  },
  {
   "cell_type": "markdown",
   "id": "bfa89221",
   "metadata": {},
   "source": [
    "Assignment operators are used to assign values to variables"
   ]
  },
  {
   "cell_type": "raw",
   "id": "7109f169",
   "metadata": {},
   "source": [
    "Operator\t  Name\t                            Example \n",
    "\n",
    "=\t        Assignment Operator\t               a = 7\n",
    "\n",
    "+=\t        Addition Assignment\t               a += 1 # a = a + 1\n",
    "\n",
    "-=\t        Subtraction Assignment\t           a -= 3 # a = a - 3\n",
    "\n",
    "*=\t        Multiplication Assignment\t       a *= 4 # a = a * 4\n",
    "\n",
    "/=\t        Division Assignment\t               a /= 3 # a = a / 3\n",
    "\n",
    "%=\t        Remainder Assignment\t           a %= 10 # a = a % 10\n",
    "\n",
    "**=\t        Exponent Assignment\t               a **= 10 # a = a ** 10"
   ]
  },
  {
   "cell_type": "markdown",
   "id": "1ee1ac3f",
   "metadata": {},
   "source": [
    "## Assignment Operator"
   ]
  },
  {
   "cell_type": "code",
   "execution_count": 2,
   "id": "26d44882",
   "metadata": {},
   "outputs": [
    {
     "name": "stdout",
     "output_type": "stream",
     "text": [
      "10\n"
     ]
    }
   ],
   "source": [
    "a = 10\n",
    "Hasya = \"Pradeep\"\n",
    "Hasya = \"Halya\"\n",
    "\n",
    "print(a)"
   ]
  },
  {
   "cell_type": "markdown",
   "id": "b8ae4894",
   "metadata": {},
   "source": [
    "## Addition Assignment"
   ]
  },
  {
   "cell_type": "code",
   "execution_count": 5,
   "id": "669df385",
   "metadata": {},
   "outputs": [
    {
     "name": "stdout",
     "output_type": "stream",
     "text": [
      "hasyahalya\n"
     ]
    }
   ],
   "source": [
    "a = \"hasya\"\n",
    "b = \"halya\"\n",
    "a += b\n",
    "print(a)"
   ]
  },
  {
   "cell_type": "code",
   "execution_count": 7,
   "id": "6e78d464",
   "metadata": {},
   "outputs": [
    {
     "name": "stdout",
     "output_type": "stream",
     "text": [
      "45\n"
     ]
    }
   ],
   "source": [
    "a = 10\n",
    "b = 35\n",
    "a = a+b\n",
    "print(a)"
   ]
  },
  {
   "cell_type": "markdown",
   "id": "2c268153",
   "metadata": {},
   "source": [
    "## Subtraction Assignment"
   ]
  },
  {
   "cell_type": "code",
   "execution_count": 9,
   "id": "da822715",
   "metadata": {},
   "outputs": [
    {
     "name": "stdout",
     "output_type": "stream",
     "text": [
      "20\n"
     ]
    }
   ],
   "source": [
    "a = 30\n",
    "b = 10\n",
    "a -= b\n",
    "print(a)"
   ]
  },
  {
   "cell_type": "markdown",
   "id": "0a6ec901",
   "metadata": {},
   "source": [
    "## Multiplication Assignment"
   ]
  },
  {
   "cell_type": "code",
   "execution_count": 10,
   "id": "9405bcdb",
   "metadata": {},
   "outputs": [
    {
     "name": "stdout",
     "output_type": "stream",
     "text": [
      "mommommommommom\n"
     ]
    }
   ],
   "source": [
    "a = \"mom\"\n",
    "b = 5\n",
    "a*=b\n",
    "print(a)\n"
   ]
  },
  {
   "cell_type": "code",
   "execution_count": 11,
   "id": "25b92e1e",
   "metadata": {},
   "outputs": [
    {
     "name": "stdout",
     "output_type": "stream",
     "text": [
      "daddaddaddaddaddaddaddaddaddad\n"
     ]
    }
   ],
   "source": [
    "a = \"dad\"\n",
    "b = 10\n",
    "a*=b\n",
    "print(a)\n"
   ]
  },
  {
   "cell_type": "markdown",
   "id": "df59e70b",
   "metadata": {},
   "source": [
    "## Division Assignment\t"
   ]
  },
  {
   "cell_type": "code",
   "execution_count": 13,
   "id": "9844d25e",
   "metadata": {},
   "outputs": [
    {
     "name": "stdout",
     "output_type": "stream",
     "text": [
      "2\n"
     ]
    }
   ],
   "source": [
    "a = 10\n",
    "b = 5\n",
    "a//=b\n",
    "print(a)"
   ]
  },
  {
   "cell_type": "markdown",
   "id": "13eef086",
   "metadata": {},
   "source": [
    "## Remainder Assignment"
   ]
  },
  {
   "cell_type": "code",
   "execution_count": 14,
   "id": "b0ccb4ed",
   "metadata": {},
   "outputs": [
    {
     "name": "stdout",
     "output_type": "stream",
     "text": [
      "0\n"
     ]
    }
   ],
   "source": [
    "a = 30\n",
    "b = 5 \n",
    "a %= b\n",
    "print(a)"
   ]
  },
  {
   "cell_type": "code",
   "execution_count": 15,
   "id": "7f4961ca",
   "metadata": {},
   "outputs": [
    {
     "name": "stdout",
     "output_type": "stream",
     "text": [
      "2\n"
     ]
    }
   ],
   "source": [
    "a=14\n",
    "b=3\n",
    "a%=b\n",
    "print(a)"
   ]
  },
  {
   "cell_type": "code",
   "execution_count": 17,
   "id": "971a2e30",
   "metadata": {},
   "outputs": [
    {
     "name": "stdout",
     "output_type": "stream",
     "text": [
      "2\n"
     ]
    }
   ],
   "source": [
    "a=26\n",
    "b=3\n",
    "a%=b\n",
    "print(a)"
   ]
  },
  {
   "cell_type": "markdown",
   "id": "2a94430d",
   "metadata": {},
   "source": [
    "## Exponent Assignment"
   ]
  },
  {
   "cell_type": "code",
   "execution_count": 19,
   "id": "649bce5c",
   "metadata": {},
   "outputs": [
    {
     "name": "stdout",
     "output_type": "stream",
     "text": [
      "100000\n"
     ]
    }
   ],
   "source": [
    "a=10\n",
    "b=5\n",
    "a**=b\n",
    "print(a)"
   ]
  },
  {
   "cell_type": "code",
   "execution_count": null,
   "id": "0fa568d0",
   "metadata": {},
   "outputs": [],
   "source": []
  }
 ],
 "metadata": {
  "kernelspec": {
   "display_name": "Python 3 (ipykernel)",
   "language": "python",
   "name": "python3"
  },
  "language_info": {
   "codemirror_mode": {
    "name": "ipython",
    "version": 3
   },
   "file_extension": ".py",
   "mimetype": "text/x-python",
   "name": "python",
   "nbconvert_exporter": "python",
   "pygments_lexer": "ipython3",
   "version": "3.11.1"
  }
 },
 "nbformat": 4,
 "nbformat_minor": 5
}
