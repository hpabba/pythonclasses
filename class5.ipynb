{
 "cells": [
  {
   "cell_type": "markdown",
   "id": "7eae75e6",
   "metadata": {},
   "source": [
    "## Arithmetic operators     (8)\n",
    "\n",
    "## Comparison Operators  (6)\n",
    "\n",
    "## Logical Operators    (3)\n",
    "\n",
    "## Bitwise Operators   (6)\n",
    "  \n",
    "## Special Operators  (2)\n",
    "\n",
    "## Assignment Operators  (7)"
   ]
  },
  {
   "cell_type": "markdown",
   "id": "e8b82f5f",
   "metadata": {},
   "source": [
    "## ARTHICMATIC OPERATORS\n",
    "multiplication *\n",
    "\n",
    "addition +\n",
    "\n",
    "subtraction -\n",
    "\n",
    "division /\n",
    "\n",
    "modulus %\n",
    "\n",
    "exponentiation  **\n",
    "\n",
    "floor division //"
   ]
  },
  {
   "cell_type": "markdown",
   "id": "70a5736d",
   "metadata": {},
   "source": [
    "## Comparison Operators\n",
    "1. Greater than\t\ta>b\n",
    "\n",
    "2. Less than\t\ta<b\n",
    "                        \n",
    "3. Equal to\t\t\ta==b\n",
    "                        \n",
    "4. not equals to\t\ta!=b\n",
    "                        \n",
    "5. Greater than or equal to\ta>=b\n",
    "    \n",
    "6. Less than or equal to\ta<=b"
   ]
  },
  {
   "cell_type": "markdown",
   "id": "814a4697",
   "metadata": {},
   "source": [
    "## logical operators\n",
    "\n",
    "1. and --  a and b --   True only if both the operands are True\n",
    "\n",
    "2. or  --  a or b   --  True if at least one of the operands is True\n",
    "\n",
    "3. not  -- not a    --  True if the operand is False and vice-versa"
   ]
  },
  {
   "cell_type": "code",
   "execution_count": 2,
   "id": "b412d44d",
   "metadata": {},
   "outputs": [
    {
     "name": "stdout",
     "output_type": "stream",
     "text": [
      "False\n"
     ]
    }
   ],
   "source": [
    "a=True\n",
    "b=False\n",
    "\n",
    "print(a and b)"
   ]
  },
  {
   "cell_type": "code",
   "execution_count": 3,
   "id": "0732a323",
   "metadata": {},
   "outputs": [
    {
     "name": "stdout",
     "output_type": "stream",
     "text": [
      "True\n"
     ]
    }
   ],
   "source": [
    "a=True\n",
    "b=True\n",
    "\n",
    "print(a and b)"
   ]
  },
  {
   "cell_type": "code",
   "execution_count": 4,
   "id": "8168d09d",
   "metadata": {},
   "outputs": [
    {
     "name": "stdout",
     "output_type": "stream",
     "text": [
      "True\n"
     ]
    }
   ],
   "source": [
    "a=True\n",
    "b=True\n",
    "\n",
    "print(a or b)"
   ]
  },
  {
   "cell_type": "code",
   "execution_count": 5,
   "id": "17faecdf",
   "metadata": {},
   "outputs": [
    {
     "name": "stdout",
     "output_type": "stream",
     "text": [
      "True\n"
     ]
    }
   ],
   "source": [
    "a=True\n",
    "b=False\n",
    "\n",
    "print(a or b)"
   ]
  },
  {
   "cell_type": "code",
   "execution_count": 6,
   "id": "ba4d2e6b",
   "metadata": {},
   "outputs": [
    {
     "name": "stdout",
     "output_type": "stream",
     "text": [
      "False\n"
     ]
    }
   ],
   "source": [
    "a=False\n",
    "b=False\n",
    "\n",
    "print(a or b)"
   ]
  },
  {
   "cell_type": "code",
   "execution_count": 7,
   "id": "b9bc1049",
   "metadata": {},
   "outputs": [
    {
     "name": "stdout",
     "output_type": "stream",
     "text": [
      "False\n"
     ]
    }
   ],
   "source": [
    "a=True\n",
    "\n",
    "print (not a)"
   ]
  },
  {
   "cell_type": "code",
   "execution_count": 8,
   "id": "edbb4432",
   "metadata": {},
   "outputs": [
    {
     "name": "stdout",
     "output_type": "stream",
     "text": [
      "True\n"
     ]
    }
   ],
   "source": [
    "a=False\n",
    "\n",
    "print (not a)"
   ]
  },
  {
   "cell_type": "code",
   "execution_count": null,
   "id": "70699d69",
   "metadata": {},
   "outputs": [],
   "source": []
  }
 ],
 "metadata": {
  "kernelspec": {
   "display_name": "Python 3 (ipykernel)",
   "language": "python",
   "name": "python3"
  },
  "language_info": {
   "codemirror_mode": {
    "name": "ipython",
    "version": 3
   },
   "file_extension": ".py",
   "mimetype": "text/x-python",
   "name": "python",
   "nbconvert_exporter": "python",
   "pygments_lexer": "ipython3",
   "version": "3.11.1"
  }
 },
 "nbformat": 4,
 "nbformat_minor": 5
}
