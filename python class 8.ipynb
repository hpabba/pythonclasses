{
 "cells": [
  {
   "cell_type": "code",
   "execution_count": 6,
   "id": "477d9e5f",
   "metadata": {},
   "outputs": [
    {
     "name": "stdout",
     "output_type": "stream",
     "text": [
      "True\n"
     ]
    }
   ],
   "source": [
    "a=\"h\"\n",
    "b=\"a\"\n",
    "print((a>b) and (a>b))"
   ]
  },
  {
   "cell_type": "code",
   "execution_count": 7,
   "id": "591927c9",
   "metadata": {},
   "outputs": [
    {
     "name": "stdout",
     "output_type": "stream",
     "text": [
      "True\n"
     ]
    }
   ],
   "source": [
    "a=\"h\"\n",
    "b=\"a\"\n",
    "print((a>b) or (a>b))"
   ]
  },
  {
   "cell_type": "code",
   "execution_count": 8,
   "id": "9b2b42df",
   "metadata": {},
   "outputs": [
    {
     "name": "stdout",
     "output_type": "stream",
     "text": [
      "False\n"
     ]
    }
   ],
   "source": [
    "a=\"h\"\n",
    "b=\"p\"\n",
    "print((a>b) or (a>b))"
   ]
  },
  {
   "cell_type": "code",
   "execution_count": null,
   "id": "8e837b75",
   "metadata": {},
   "outputs": [],
   "source": []
  }
 ],
 "metadata": {
  "kernelspec": {
   "display_name": "Python 3 (ipykernel)",
   "language": "python",
   "name": "python3"
  },
  "language_info": {
   "codemirror_mode": {
    "name": "ipython",
    "version": 3
   },
   "file_extension": ".py",
   "mimetype": "text/x-python",
   "name": "python",
   "nbconvert_exporter": "python",
   "pygments_lexer": "ipython3",
   "version": "3.11.1"
  }
 },
 "nbformat": 4,
 "nbformat_minor": 5
}
