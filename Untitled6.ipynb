{
 "cells": [
  {
   "cell_type": "markdown",
   "id": "e8958f6b",
   "metadata": {},
   "source": [
    "## while"
   ]
  },
  {
   "cell_type": "markdown",
   "id": "777e4f83",
   "metadata": {},
   "source": [
    "# syntax of while loop"
   ]
  },
  {
   "cell_type": "code",
   "execution_count": 1,
   "id": "b49c62bd",
   "metadata": {},
   "outputs": [],
   "source": [
    "#while condition:\n",
    "    # body of while loop"
   ]
  },
  {
   "cell_type": "code",
   "execution_count": 13,
   "id": "eaca5e2c",
   "metadata": {},
   "outputs": [],
   "source": [
    "while 10>20:\n",
    "    \n",
    "    print (hasya>halya)"
   ]
  },
  {
   "cell_type": "code",
   "execution_count": null,
   "id": "383c0e4e",
   "metadata": {},
   "outputs": [],
   "source": [
    "while 20>10:\n",
    "    \n",
    "    print (\"hasya>halya\")\n",
    "    break\n",
    "    "
   ]
  },
  {
   "cell_type": "code",
   "execution_count": null,
   "id": "69aa96db",
   "metadata": {},
   "outputs": [],
   "source": []
  }
 ],
 "metadata": {
  "kernelspec": {
   "display_name": "Python 3 (ipykernel)",
   "language": "python",
   "name": "python3"
  },
  "language_info": {
   "codemirror_mode": {
    "name": "ipython",
    "version": 3
   },
   "file_extension": ".py",
   "mimetype": "text/x-python",
   "name": "python",
   "nbconvert_exporter": "python",
   "pygments_lexer": "ipython3",
   "version": "3.11.1"
  }
 },
 "nbformat": 4,
 "nbformat_minor": 5
}
