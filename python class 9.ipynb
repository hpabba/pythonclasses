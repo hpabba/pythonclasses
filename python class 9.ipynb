{
 "cells": [
  {
   "cell_type": "markdown",
   "id": "82087d51",
   "metadata": {},
   "source": [
    "## conditional statements"
   ]
  },
  {
   "cell_type": "markdown",
   "id": "eb29c916",
   "metadata": {},
   "source": [
    "In Python, there are three forms of the if...else statement.\n",
    "\n",
    "if statement\n",
    "\n",
    "if...else statement\n",
    "\n",
    "if...elif...else statement"
   ]
  },
  {
   "cell_type": "markdown",
   "id": "7e7dc304",
   "metadata": {},
   "source": [
    "## The syntax of if statement in Python is:"
   ]
  },
  {
   "cell_type": "markdown",
   "id": "6c7ef603",
   "metadata": {},
   "source": [
    "if condition:\n",
    "\n",
    "    # body of if statement"
   ]
  },
  {
   "cell_type": "markdown",
   "id": "5fb034e1",
   "metadata": {},
   "source": [
    "If condition is evaluated to True, the code inside the body of if is executed.\n",
    "\n",
    "If condition is evaluated to False, the code inside the body of if is skipped."
   ]
  },
  {
   "cell_type": "markdown",
   "id": "5ec53214",
   "metadata": {},
   "source": [
    "## example"
   ]
  },
  {
   "cell_type": "code",
   "execution_count": 6,
   "id": "65e91c44",
   "metadata": {},
   "outputs": [
    {
     "name": "stdout",
     "output_type": "stream",
     "text": [
      "Number is positive.\n",
      "The if statement is easy\n"
     ]
    }
   ],
   "source": [
    "number = 10\n",
    "\n",
    "# check if number is greater than 0\n",
    "if number > 0:\n",
    "    print('Number is positive.')\n",
    "    print('The if statement is easy')"
   ]
  },
  {
   "cell_type": "code",
   "execution_count": 7,
   "id": "941ea735",
   "metadata": {},
   "outputs": [],
   "source": [
    "number = -10\n",
    "\n",
    "# check if number is greater than 0\n",
    "if number > 0:\n",
    "    print('Number is positive.')\n",
    "    print('The if statement is easy')"
   ]
  },
  {
   "cell_type": "markdown",
   "id": "fc979b73",
   "metadata": {},
   "source": [
    "## Python if...else Statement"
   ]
  },
  {
   "cell_type": "markdown",
   "id": "73808bf8",
   "metadata": {},
   "source": [
    "The syntax of if...else statement is:\n",
    "\n",
    "if condition:\n",
    "\n",
    "    # block of code if condition is True\n",
    "\n",
    "else:\n",
    "\n",
    "    # block of code if condition is False"
   ]
  },
  {
   "cell_type": "markdown",
   "id": "2c82d6d2",
   "metadata": {},
   "source": [
    "If the condition evaluates to True,\n",
    "\n",
    "the code inside if is executed\n",
    "\n",
    "the code inside else is skipped\n",
    "\n",
    "\n",
    "\n",
    "If the condition evaluates to False,\n",
    "\n",
    "the code inside else is executed\n",
    "\n",
    "the code inside if is skipped"
   ]
  },
  {
   "cell_type": "markdown",
   "id": "cd4c132a",
   "metadata": {},
   "source": [
    "## example"
   ]
  },
  {
   "cell_type": "code",
   "execution_count": 8,
   "id": "d6f5ecb3",
   "metadata": {},
   "outputs": [
    {
     "name": "stdout",
     "output_type": "stream",
     "text": [
      "Positive number\n",
      "This statement is always executed\n"
     ]
    }
   ],
   "source": [
    "number = 10\n",
    "\n",
    "if number > 0:\n",
    "    print('Positive number')\n",
    "\n",
    "else:\n",
    "    print('Negative number')\n",
    "\n",
    "print('This statement is always executed')"
   ]
  },
  {
   "cell_type": "code",
   "execution_count": 9,
   "id": "dbba90d0",
   "metadata": {},
   "outputs": [
    {
     "name": "stdout",
     "output_type": "stream",
     "text": [
      "Negative number\n",
      "This statement is always executed\n"
     ]
    }
   ],
   "source": [
    "number = -10\n",
    "\n",
    "if number > 0:\n",
    "    print('Positive number')\n",
    "\n",
    "else:\n",
    "    print('Negative number')\n",
    "\n",
    "print('This statement is always executed')"
   ]
  },
  {
   "cell_type": "markdown",
   "id": "3df9479c",
   "metadata": {},
   "source": [
    "## Python if...elif...else Statement"
   ]
  },
  {
   "cell_type": "markdown",
   "id": "82f9e2e1",
   "metadata": {},
   "source": [
    "The syntax of the if...elif...else statement is:\n",
    "\n",
    "if condition1:\n",
    "\n",
    "    # code block 1\n",
    "\n",
    "elif condition2:\n",
    "\n",
    "    # code block 2\n",
    "\n",
    "else: \n",
    "\n",
    "    # code block 3"
   ]
  },
  {
   "cell_type": "code",
   "execution_count": 10,
   "id": "94b7cf25",
   "metadata": {},
   "outputs": [
    {
     "name": "stdout",
     "output_type": "stream",
     "text": [
      "Zero\n",
      "This statement is always executed\n"
     ]
    }
   ],
   "source": [
    "number = 0\n",
    "\n",
    "if number > 0:\n",
    "    \n",
    "    print(\"Positive number\")\n",
    "\n",
    "elif number == 0:\n",
    "    print('Zero')\n",
    "else:\n",
    "    print('Negative number')\n",
    "\n",
    "print('This statement is always executed')"
   ]
  },
  {
   "cell_type": "code",
   "execution_count": null,
   "id": "4175cb37",
   "metadata": {},
   "outputs": [],
   "source": []
  }
 ],
 "metadata": {
  "kernelspec": {
   "display_name": "Python 3 (ipykernel)",
   "language": "python",
   "name": "python3"
  },
  "language_info": {
   "codemirror_mode": {
    "name": "ipython",
    "version": 3
   },
   "file_extension": ".py",
   "mimetype": "text/x-python",
   "name": "python",
   "nbconvert_exporter": "python",
   "pygments_lexer": "ipython3",
   "version": "3.11.1"
  }
 },
 "nbformat": 4,
 "nbformat_minor": 5
}
