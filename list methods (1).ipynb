{
 "cells": [
  {
   "cell_type": "code",
   "execution_count": 1,
   "id": "ae1518ac",
   "metadata": {},
   "outputs": [],
   "source": [
    "## some list methods"
   ]
  },
  {
   "cell_type": "code",
   "execution_count": 3,
   "id": "eb7ee98a",
   "metadata": {},
   "outputs": [],
   "source": [
    "#Python List append()\n",
    "#The append() method adds an item to the end of the list."
   ]
  },
  {
   "cell_type": "code",
   "execution_count": 6,
   "id": "8199d201",
   "metadata": {},
   "outputs": [
    {
     "name": "stdout",
     "output_type": "stream",
     "text": [
      "['Dollar', 'Euro', 'Pound', 'Yen', 'kr']\n"
     ]
    }
   ],
   "source": [
    "#Example\n",
    "currencies = ['Dollar', 'Euro', 'Pound']\n",
    "\n",
    "# append 'Yen' to the list\n",
    "currencies.append('Yen')\n",
    "\n",
    "# append 'kr' to the list\n",
    "currencies.append('kr')\n",
    "print(currencies)\n"
   ]
  },
  {
   "cell_type": "code",
   "execution_count": 7,
   "id": "7548be92",
   "metadata": {},
   "outputs": [
    {
     "name": "stdout",
     "output_type": "stream",
     "text": [
      "['Dollar', 'Euro', 'Pound', 'Yen', 'kr', 'rupee']\n"
     ]
    }
   ],
   "source": [
    "currencies.append(\"rupee\")\n",
    "\n",
    "print (currencies)"
   ]
  },
  {
   "cell_type": "code",
   "execution_count": 9,
   "id": "51fa943a",
   "metadata": {},
   "outputs": [],
   "source": [
    "#Python List index()\n",
    "#The index() method returns the index of the specified element in the list\n"
   ]
  },
  {
   "cell_type": "code",
   "execution_count": 10,
   "id": "7c7fb8f3",
   "metadata": {},
   "outputs": [
    {
     "name": "stdout",
     "output_type": "stream",
     "text": [
      "1\n"
     ]
    }
   ],
   "source": [
    "#Example\n",
    "\n",
    "animals = ['cat', 'dog', 'rabbit', 'horse']\n",
    "\n",
    "# get the index of 'dog'\n",
    "index = animals.index('dog')\n",
    "\n",
    "\n",
    "print(index)"
   ]
  },
  {
   "cell_type": "code",
   "execution_count": 11,
   "id": "3b217c97",
   "metadata": {},
   "outputs": [
    {
     "name": "stdout",
     "output_type": "stream",
     "text": [
      "3\n"
     ]
    }
   ],
   "source": [
    "index = animals.index('horse')\n",
    "\n",
    "print(index)"
   ]
  },
  {
   "cell_type": "markdown",
   "id": "6563750d",
   "metadata": {},
   "source": [
    "# list extend()"
   ]
  },
  {
   "cell_type": "markdown",
   "id": "48eae446",
   "metadata": {},
   "source": [
    "The extend() method adds all the elements of an iterable (list, tuple, string etc.) to the end of the list."
   ]
  },
  {
   "cell_type": "code",
   "execution_count": 13,
   "id": "d7d94b0a",
   "metadata": {},
   "outputs": [],
   "source": [
    "#example"
   ]
  },
  {
   "cell_type": "code",
   "execution_count": 14,
   "id": "1dd8c219",
   "metadata": {},
   "outputs": [
    {
     "name": "stdout",
     "output_type": "stream",
     "text": [
      "Languages List: ['French', 'English', 'Spanish', 'Portuguese']\n"
     ]
    }
   ],
   "source": [
    "# languages list\n",
    "languages = ['French', 'English']\n",
    "\n",
    "# another list of language\n",
    "languages1 = ['Spanish', 'Portuguese']\n",
    "\n",
    "# appending language1 elements to language\n",
    "languages.extend(languages1)\n",
    "\n",
    "\n",
    "print('Languages List:', languages)"
   ]
  },
  {
   "cell_type": "code",
   "execution_count": 15,
   "id": "6362a3fa",
   "metadata": {},
   "outputs": [
    {
     "name": "stdout",
     "output_type": "stream",
     "text": [
      "Languages List: ['French', 'English', 1, 2, 3]\n"
     ]
    }
   ],
   "source": [
    "# languages list\n",
    "languages = ['French', 'English']\n",
    "\n",
    "lang2=(1,2,3)\n",
    "languages.extend(lang2)\n",
    "\n",
    "\n",
    "\n",
    "\n",
    "print('Languages List:', languages)"
   ]
  },
  {
   "cell_type": "code",
   "execution_count": 16,
   "id": "7653a5d7",
   "metadata": {},
   "outputs": [
    {
     "name": "stdout",
     "output_type": "stream",
     "text": [
      "['hasya', 'selina', 'pradeep']\n"
     ]
    }
   ],
   "source": [
    "sara=[\"hasya\",\"selina\"]\n",
    "halya=[\"pradeep\"]\n",
    "sara.extend(halya)\n",
    "print(sara)"
   ]
  },
  {
   "cell_type": "code",
   "execution_count": 17,
   "id": "11071810",
   "metadata": {},
   "outputs": [],
   "source": [
    "#Python List count()\n",
    "#The count() method returns the number of times the specified element appears in the list."
   ]
  },
  {
   "cell_type": "code",
   "execution_count": 18,
   "id": "7a0c99a9",
   "metadata": {},
   "outputs": [
    {
     "name": "stdout",
     "output_type": "stream",
     "text": [
      "Count of 2: 3\n"
     ]
    }
   ],
   "source": [
    "#example\n",
    "\n",
    "# create a list\n",
    "numbers = [2, 3, 5, 2, 11, 2, 7]\n",
    "\n",
    "# check the count of 2\n",
    "count = numbers.count(2)\n",
    "\n",
    "\n",
    "print('Count of 2:', count)\n"
   ]
  },
  {
   "cell_type": "code",
   "execution_count": null,
   "id": "15efebd1",
   "metadata": {},
   "outputs": [],
   "source": []
  }
 ],
 "metadata": {
  "kernelspec": {
   "display_name": "Python 3 (ipykernel)",
   "language": "python",
   "name": "python3"
  },
  "language_info": {
   "codemirror_mode": {
    "name": "ipython",
    "version": 3
   },
   "file_extension": ".py",
   "mimetype": "text/x-python",
   "name": "python",
   "nbconvert_exporter": "python",
   "pygments_lexer": "ipython3",
   "version": "3.11.1"
  }
 },
 "nbformat": 4,
 "nbformat_minor": 5
}
