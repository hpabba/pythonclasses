{
 "cells": [
  {
   "cell_type": "markdown",
   "id": "39f4f14b",
   "metadata": {},
   "source": [
    "## bitwise operators"
   ]
  },
  {
   "cell_type": "markdown",
   "id": "a628d3ff",
   "metadata": {},
   "source": [
    "Bitwise operators act on operands as if they were strings of binary digits. They operate bit by bit, hence the name."
   ]
  },
  {
   "cell_type": "raw",
   "id": "2a9ccdb7",
   "metadata": {},
   "source": [
    "   Operator          \tMeaning\t                     Example\n",
    "       &\t                Bitwise AND             \tx & y = 0 (0000 0000)\n",
    "       |\t                Bitwise OR\t                x | y = 14 (0000 1110)\n",
    "       ~\t                Bitwise NOT\t               ~x = -11 (1111 0101)\n",
    "       ^\t                Bitwise XOR             \tx ^ y = 14 (0000 1110)\n",
    "       >>\t                Bitwise right shift     \tx >> 2 = 2 (0000 0010)\n",
    "       <<\t                Bitwise left shift\t        x << 2 = 40 (0010 1000)"
   ]
  },
  {
   "cell_type": "markdown",
   "id": "e2dc7805",
   "metadata": {},
   "source": [
    " ## Bitwise AND"
   ]
  },
  {
   "cell_type": "code",
   "execution_count": 2,
   "id": "1d5e0c1d",
   "metadata": {},
   "outputs": [
    {
     "name": "stdout",
     "output_type": "stream",
     "text": [
      "0\n"
     ]
    }
   ],
   "source": [
    "A=10\n",
    "B=5\n",
    "print(A&B)"
   ]
  },
  {
   "cell_type": "markdown",
   "id": "5172396e",
   "metadata": {},
   "source": [
    "## Bitwise OR"
   ]
  },
  {
   "cell_type": "code",
   "execution_count": 3,
   "id": "9a9e2c2e",
   "metadata": {},
   "outputs": [
    {
     "name": "stdout",
     "output_type": "stream",
     "text": [
      "15\n"
     ]
    }
   ],
   "source": [
    "A=10\n",
    "B=5\n",
    "print(A|B)"
   ]
  },
  {
   "cell_type": "markdown",
   "id": "05268ae6",
   "metadata": {},
   "source": [
    "## Bitwise NOT"
   ]
  },
  {
   "cell_type": "code",
   "execution_count": 4,
   "id": "cccc44f7",
   "metadata": {},
   "outputs": [
    {
     "name": "stdout",
     "output_type": "stream",
     "text": [
      "-11\n"
     ]
    }
   ],
   "source": [
    "a=10\n",
    "print(~a)"
   ]
  },
  {
   "cell_type": "markdown",
   "id": "e70297dc",
   "metadata": {},
   "source": [
    "## Bitwise XOR"
   ]
  },
  {
   "cell_type": "code",
   "execution_count": 5,
   "id": "7d2792c5",
   "metadata": {},
   "outputs": [
    {
     "name": "stdout",
     "output_type": "stream",
     "text": [
      "15\n"
     ]
    }
   ],
   "source": [
    "A=10\n",
    "B=5\n",
    "print(A^B)"
   ]
  },
  {
   "cell_type": "markdown",
   "id": "bda466df",
   "metadata": {},
   "source": [
    "## Bitwise right shift  "
   ]
  },
  {
   "cell_type": "code",
   "execution_count": 6,
   "id": "02ae909c",
   "metadata": {},
   "outputs": [
    {
     "name": "stdout",
     "output_type": "stream",
     "text": [
      "10\n"
     ]
    }
   ],
   "source": [
    "a=10\n",
    "a>>2\n",
    "print(a)"
   ]
  },
  {
   "cell_type": "markdown",
   "id": "32e56a77",
   "metadata": {},
   "source": [
    "## Bitwise left shift"
   ]
  },
  {
   "cell_type": "code",
   "execution_count": 7,
   "id": "c2fd71e1",
   "metadata": {},
   "outputs": [
    {
     "name": "stdout",
     "output_type": "stream",
     "text": [
      "10\n"
     ]
    }
   ],
   "source": [
    "a=10\n",
    "a<<2\n",
    "print(a)"
   ]
  },
  {
   "cell_type": "code",
   "execution_count": null,
   "id": "0ab3decb",
   "metadata": {},
   "outputs": [],
   "source": []
  }
 ],
 "metadata": {
  "kernelspec": {
   "display_name": "Python 3 (ipykernel)",
   "language": "python",
   "name": "python3"
  },
  "language_info": {
   "codemirror_mode": {
    "name": "ipython",
    "version": 3
   },
   "file_extension": ".py",
   "mimetype": "text/x-python",
   "name": "python",
   "nbconvert_exporter": "python",
   "pygments_lexer": "ipython3",
   "version": "3.11.1"
  }
 },
 "nbformat": 4,
 "nbformat_minor": 5
}
