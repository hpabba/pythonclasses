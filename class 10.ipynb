{
 "cells": [
  {
   "cell_type": "markdown",
   "id": "f0ebb410",
   "metadata": {},
   "source": [
    "## list"
   ]
  },
  {
   "cell_type": "code",
   "execution_count": 1,
   "id": "ee6d5410",
   "metadata": {},
   "outputs": [],
   "source": [
    "lists are used to store multiple data at once. For example,\n",
    "\n",
    "Suppose we need to record the ages of 5 students. Instead of creating 5 separate variables, we can simply create a list:\n",
    "list=[13,9,21,40,42]\n",
    "\n",
    "A list is created in Python by placing items inside [], separated by commas . For example,"
   ]
  },
  {
   "cell_type": "code",
   "execution_count": 1,
   "id": "49627819",
   "metadata": {},
   "outputs": [
    {
     "name": "stdout",
     "output_type": "stream",
     "text": [
      "[1, 2, 5]\n"
     ]
    }
   ],
   "source": [
    "# A list with 3 integers\n",
    "num = [1, 2, 5]\n",
    "\n",
    "print(num)\n",
    "\n"
   ]
  },
  {
   "cell_type": "code",
   "execution_count": 3,
   "id": "0728efd9",
   "metadata": {},
   "outputs": [],
   "source": [
    "## A list can have any number of items and they may be of different types (integer, float, string, etc.). For example,\n",
    "# empty list\n",
    "my_list = []\n",
    "\n",
    "# list with mixed data types\n",
    "my_list = [1, \"Hello\", 3.4]"
   ]
  },
  {
   "cell_type": "code",
   "execution_count": 4,
   "id": "86ec87f5",
   "metadata": {},
   "outputs": [
    {
     "data": {
      "text/plain": [
       "[1, 'Hello', 3.4]"
      ]
     },
     "execution_count": 4,
     "metadata": {},
     "output_type": "execute_result"
    }
   ],
   "source": [
    "my_list"
   ]
  },
  {
   "cell_type": "code",
   "execution_count": 5,
   "id": "56f848bf",
   "metadata": {},
   "outputs": [
    {
     "name": "stdout",
     "output_type": "stream",
     "text": [
      "Python\n",
      "C++\n"
     ]
    }
   ],
   "source": [
    "## we can access elements of an array using the index number (0, 1, 2 …). For example,\n",
    "languages = [\"Python\", \"Swift\", \"C++\"]\n",
    "\n",
    "# access item at index 0\n",
    "print(languages[0])   # Python\n",
    "\n",
    "# access item at index 2\n",
    "print(languages[2])   # C++"
   ]
  },
  {
   "cell_type": "code",
   "execution_count": null,
   "id": "4640e171",
   "metadata": {},
   "outputs": [],
   "source": []
  }
 ],
 "metadata": {
  "kernelspec": {
   "display_name": "Python 3 (ipykernel)",
   "language": "python",
   "name": "python3"
  },
  "language_info": {
   "codemirror_mode": {
    "name": "ipython",
    "version": 3
   },
   "file_extension": ".py",
   "mimetype": "text/x-python",
   "name": "python",
   "nbconvert_exporter": "python",
   "pygments_lexer": "ipython3",
   "version": "3.11.1"
  }
 },
 "nbformat": 4,
 "nbformat_minor": 5
}
