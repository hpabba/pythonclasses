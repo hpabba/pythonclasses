{
 "cells": [
  {
   "cell_type": "code",
   "execution_count": 1,
   "id": "825222b9",
   "metadata": {},
   "outputs": [],
   "source": [
    "## some list methods"
   ]
  },
  {
   "cell_type": "code",
   "execution_count": 3,
   "id": "dfa4f794",
   "metadata": {},
   "outputs": [],
   "source": [
    "#Python List append()\n",
    "#The append() method adds an item to the end of the list."
   ]
  },
  {
   "cell_type": "code",
   "execution_count": 6,
   "id": "57608ea3",
   "metadata": {},
   "outputs": [
    {
     "name": "stdout",
     "output_type": "stream",
     "text": [
      "['Dollar', 'Euro', 'Pound', 'Yen', 'kr']\n"
     ]
    }
   ],
   "source": [
    "#Example\n",
    "currencies = ['Dollar', 'Euro', 'Pound']\n",
    "\n",
    "# append 'Yen' to the list\n",
    "currencies.append('Yen')\n",
    "\n",
    "# append 'kr' to the list\n",
    "currencies.append('kr')\n",
    "print(currencies)\n"
   ]
  },
  {
   "cell_type": "code",
   "execution_count": 7,
   "id": "2a56b7d6",
   "metadata": {},
   "outputs": [
    {
     "name": "stdout",
     "output_type": "stream",
     "text": [
      "['Dollar', 'Euro', 'Pound', 'Yen', 'kr', 'rupee']\n"
     ]
    }
   ],
   "source": [
    "currencies.append(\"rupee\")\n",
    "\n",
    "print (currencies)"
   ]
  },
  {
   "cell_type": "code",
   "execution_count": 9,
   "id": "d63a5ae9",
   "metadata": {},
   "outputs": [],
   "source": [
    "#Python List index()\n",
    "#The index() method returns the index of the specified element in the list\n"
   ]
  },
  {
   "cell_type": "code",
   "execution_count": 10,
   "id": "3883f8ad",
   "metadata": {},
   "outputs": [
    {
     "name": "stdout",
     "output_type": "stream",
     "text": [
      "1\n"
     ]
    }
   ],
   "source": [
    "#Example\n",
    "\n",
    "animals = ['cat', 'dog', 'rabbit', 'horse']\n",
    "\n",
    "# get the index of 'dog'\n",
    "index = animals.index('dog')\n",
    "\n",
    "\n",
    "print(index)"
   ]
  },
  {
   "cell_type": "code",
   "execution_count": 11,
   "id": "2485161f",
   "metadata": {},
   "outputs": [
    {
     "name": "stdout",
     "output_type": "stream",
     "text": [
      "3\n"
     ]
    }
   ],
   "source": [
    "index = animals.index('horse')\n",
    "\n",
    "print(index)"
   ]
  },
  {
   "cell_type": "code",
   "execution_count": null,
   "id": "011de437",
   "metadata": {},
   "outputs": [],
   "source": []
  }
 ],
 "metadata": {
  "kernelspec": {
   "display_name": "Python 3 (ipykernel)",
   "language": "python",
   "name": "python3"
  },
  "language_info": {
   "codemirror_mode": {
    "name": "ipython",
    "version": 3
   },
   "file_extension": ".py",
   "mimetype": "text/x-python",
   "name": "python",
   "nbconvert_exporter": "python",
   "pygments_lexer": "ipython3",
   "version": "3.11.1"
  }
 },
 "nbformat": 4,
 "nbformat_minor": 5
}
