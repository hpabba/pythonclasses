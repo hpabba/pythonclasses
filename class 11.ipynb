{
 "cells": [
  {
   "cell_type": "code",
   "execution_count": 1,
   "id": "da44aa96",
   "metadata": {},
   "outputs": [
    {
     "name": "stdout",
     "output_type": "stream",
     "text": [
      "Python\n",
      "C++\n",
      "Swift\n"
     ]
    }
   ],
   "source": [
    "## we can access elements of an array using the index number (0, 1, 2 …). For example,\n",
    "languages = [\"Python\", \"Swift\", \"C++\"]\n",
    "\n",
    "# access item at index 0\n",
    "print(languages[0])   # Python\n",
    "\n",
    "# access item at index 2\n",
    "print(languages[2])   # C++\n",
    "\n",
    "print(languages[1])"
   ]
  },
  {
   "cell_type": "code",
   "execution_count": 2,
   "id": "0dbfe3c9",
   "metadata": {},
   "outputs": [
    {
     "name": "stdout",
     "output_type": "stream",
     "text": [
      "halya\n"
     ]
    }
   ],
   "source": [
    "family=[\"hasya\",\"halya\", \"pradeep\"]\n",
    "\n",
    "print(family[1])"
   ]
  },
  {
   "cell_type": "code",
   "execution_count": 3,
   "id": "207c757f",
   "metadata": {},
   "outputs": [
    {
     "name": "stdout",
     "output_type": "stream",
     "text": [
      "hasya\n"
     ]
    }
   ],
   "source": [
    "family=[\"hasya\",\"halya\", \"pradeep\"]\n",
    "\n",
    "print(family[0])"
   ]
  },
  {
   "cell_type": "markdown",
   "id": "c4244c30",
   "metadata": {},
   "source": [
    "## list append"
   ]
  },
  {
   "cell_type": "code",
   "execution_count": 5,
   "id": "9565a075",
   "metadata": {},
   "outputs": [],
   "source": [
    "#The syntax of the append() method is:\n",
    "#list.append(item)\n"
   ]
  },
  {
   "cell_type": "code",
   "execution_count": 6,
   "id": "47c83443",
   "metadata": {},
   "outputs": [
    {
     "name": "stdout",
     "output_type": "stream",
     "text": [
      "['Dollar', 'Euro', 'Pound', 'Yen']\n"
     ]
    }
   ],
   "source": [
    "#The append() method adds an item to the end of the list.\n",
    "\n",
    "currencies = ['Dollar', 'Euro', 'Pound']\n",
    "\n",
    "# append 'Yen' to the list\n",
    "currencies.append('Yen')\n",
    "\n",
    "print(currencies)\n",
    "\n",
    "# Output: ['Dollar', 'Euro', 'Pound', 'Yen']"
   ]
  },
  {
   "cell_type": "code",
   "execution_count": 7,
   "id": "ec0c6d3f",
   "metadata": {},
   "outputs": [
    {
     "name": "stdout",
     "output_type": "stream",
     "text": [
      "Updated animals list:  ['cat', 'dog', 'rabbit', 'guinea pig']\n"
     ]
    }
   ],
   "source": [
    "\n",
    "    \n",
    "    \n",
    "\n",
    "# animals list\n",
    "animals = ['cat', 'dog', 'rabbit']\n",
    "\n",
    "# Add 'guinea pig' to the list\n",
    "animals.append('guinea pig')\n",
    "\n",
    "print('Updated animals list: ', animals)"
   ]
  },
  {
   "cell_type": "code",
   "execution_count": 9,
   "id": "4a5bfe0d",
   "metadata": {},
   "outputs": [
    {
     "name": "stdout",
     "output_type": "stream",
     "text": [
      "Updated animals list:  ['cat', 'dog', 'rabbit', ['tiger', 'fox']]\n"
     ]
    }
   ],
   "source": [
    "# animals list\n",
    "animals = ['cat', 'dog', 'rabbit']\n",
    "\n",
    "# list of wild animals\n",
    "wild_animals = ['tiger', 'fox']\n",
    "\n",
    "# appending wild_animals list to animals\n",
    "animals.append(wild_animals)\n",
    "\n",
    "print('Updated animals list: ', animals)"
   ]
  },
  {
   "cell_type": "code",
   "execution_count": null,
   "id": "afc54c4c",
   "metadata": {},
   "outputs": [],
   "source": []
  }
 ],
 "metadata": {
  "kernelspec": {
   "display_name": "Python 3 (ipykernel)",
   "language": "python",
   "name": "python3"
  },
  "language_info": {
   "codemirror_mode": {
    "name": "ipython",
    "version": 3
   },
   "file_extension": ".py",
   "mimetype": "text/x-python",
   "name": "python",
   "nbconvert_exporter": "python",
   "pygments_lexer": "ipython3",
   "version": "3.11.1"
  }
 },
 "nbformat": 4,
 "nbformat_minor": 5
}
